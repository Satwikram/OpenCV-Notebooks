{
  "nbformat": 4,
  "nbformat_minor": 0,
  "metadata": {
    "colab": {
      "name": "OpenCV Loading Camera Video source.ipynb",
      "provenance": [],
      "collapsed_sections": [],
      "mount_file_id": "1WueXb5_bsGvweIEmxXDfOjve1Ow7gbcV",
      "authorship_tag": "ABX9TyPWlel+bf2yq4pduj5bCGo6",
      "include_colab_link": true
    },
    "kernelspec": {
      "name": "python3",
      "display_name": "Python 3"
    },
    "accelerator": "TPU"
  },
  "cells": [
    {
      "cell_type": "markdown",
      "metadata": {
        "id": "view-in-github",
        "colab_type": "text"
      },
      "source": [
        "<a href=\"https://colab.research.google.com/github/Satwikram/OpenCV-Notebooks/blob/master/OpenCV_Loading_Camera_Video_source.ipynb\" target=\"_parent\"><img src=\"https://colab.research.google.com/assets/colab-badge.svg\" alt=\"Open In Colab\"/></a>"
      ]
    },
    {
      "cell_type": "markdown",
      "metadata": {
        "id": "jizeAyAH-jBJ",
        "colab_type": "text"
      },
      "source": [
        "Loading Videos"
      ]
    },
    {
      "cell_type": "code",
      "metadata": {
        "id": "rCEB7DDb-00A",
        "colab_type": "code",
        "colab": {}
      },
      "source": [
        "import cv2\n",
        "import numpy as np\n",
        "import matplotlib.pyplot as plt\n"
      ],
      "execution_count": 0,
      "outputs": []
    },
    {
      "cell_type": "markdown",
      "metadata": {
        "id": "SsbeXG9UAqCr",
        "colab_type": "text"
      },
      "source": [
        "Try this in Loacal Machine as Cv2 camera show is disabled in Colab"
      ]
    },
    {
      "cell_type": "code",
      "metadata": {
        "id": "OzGW8jUL-7JO",
        "colab_type": "code",
        "colab": {}
      },
      "source": [
        "cap = cv2.VideoCapture(1)\n"
      ],
      "execution_count": 0,
      "outputs": []
    },
    {
      "cell_type": "code",
      "metadata": {
        "id": "6U0dzS-F_O8x",
        "colab_type": "code",
        "colab": {
          "base_uri": "https://localhost:8080/",
          "height": 54
        },
        "outputId": "18af29ef-b81a-44a5-ef68-d06c967e26bf"
      },
      "source": [
        "'''\n",
        "while True:\n",
        "  ret, frame = cap.read()\n",
        "  cv2.imshow('frame', frame)\n",
        "\n",
        "  if cv2.waitKey(1) & 0xFF == ord('q'):\n",
        "    break\n",
        "\n",
        "  '''"
      ],
      "execution_count": 5,
      "outputs": [
        {
          "output_type": "execute_result",
          "data": {
            "text/plain": [
              "\"\\nwhile True:\\n  ret, frame = cap.read()\\n  cv2.imshow('frame', frame)\\n\\n  if cv2.waitKey(1) & 0xFF == ord('q'):\\n    break\\n\\n  \""
            ]
          },
          "metadata": {
            "tags": []
          },
          "execution_count": 5
        }
      ]
    },
    {
      "cell_type": "code",
      "metadata": {
        "id": "T2xma-p0ARFS",
        "colab_type": "code",
        "colab": {
          "base_uri": "https://localhost:8080/",
          "height": 34
        },
        "outputId": "0e66efe8-c784-43a0-cfbc-661050e77793"
      },
      "source": [
        "'''\n",
        "cap.release()\n",
        "cap.destroyAllWindows()\n",
        "\n",
        "'''"
      ],
      "execution_count": 7,
      "outputs": [
        {
          "output_type": "execute_result",
          "data": {
            "text/plain": [
              "'\\ncap.release()\\ncap.destroyAllWindows()\\n\\n'"
            ]
          },
          "metadata": {
            "tags": []
          },
          "execution_count": 7
        }
      ]
    },
    {
      "cell_type": "markdown",
      "metadata": {
        "id": "X62JkYYoBjCg",
        "colab_type": "text"
      },
      "source": [
        "Saving Video Files"
      ]
    },
    {
      "cell_type": "code",
      "metadata": {
        "id": "9S3COs8CAkWQ",
        "colab_type": "code",
        "colab": {
          "base_uri": "https://localhost:8080/",
          "height": 34
        },
        "outputId": "d6d784c0-3306-4719-f5cb-dd5aedda0821"
      },
      "source": [
        "'''\n",
        "fourcc = cv2.VideoWriter_fourcc(*'XVID')\n",
        "out = cv2.VideoWriter('output.avi', fourcc, 20.0, (1280, 720))\n",
        "'''"
      ],
      "execution_count": 9,
      "outputs": [
        {
          "output_type": "execute_result",
          "data": {
            "text/plain": [
              "\"\\nfourcc = cv2.VideoWriter_fourcc(*'XVID')\\nout = cv2.VideoWriter('output.avi', fourcc, 20.0, (1280, 720))\\n\""
            ]
          },
          "metadata": {
            "tags": []
          },
          "execution_count": 9
        }
      ]
    },
    {
      "cell_type": "code",
      "metadata": {
        "id": "WUt9kXCgCKV5",
        "colab_type": "code",
        "colab": {}
      },
      "source": [
        ""
      ],
      "execution_count": 0,
      "outputs": []
    }
  ]
}